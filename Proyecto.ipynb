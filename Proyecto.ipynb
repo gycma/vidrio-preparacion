{
 "cells": [
  {
   "cell_type": "markdown",
   "id": "2b48fefb",
   "metadata": {},
   "source": [
    "# Sesión 10"
   ]
  },
  {
   "cell_type": "code",
   "execution_count": 1,
   "id": "d22f1620",
   "metadata": {},
   "outputs": [],
   "source": [
    "import pandas as pd\n",
    "from sklearn.model_selection import train_test_split\n",
    "from sklearn import metrics\n",
    "from sklearn import tree\n",
    "from sklearn import svm\n",
    "from sklearn.metrics import classification_report\n",
    "from sklearn.metrics import confusion_matrix\n",
    "from sklearn.model_selection import GridSearchCV\n",
    "\n",
    "import seaborn as sns\n",
    "sns.set(style=\"whitegrid\")\n",
    "import matplotlib.pyplot as plt\n",
    "%matplotlib inline\n",
    "\n",
    "from ipywidgets import interact, interactive, fixed, interact_manual\n",
    "import ipywidgets as widgets"
   ]
  },
  {
   "cell_type": "markdown",
   "id": "e3ad008b",
   "metadata": {},
   "source": [
    "### Preparación"
   ]
  },
  {
   "cell_type": "code",
   "execution_count": 2,
   "id": "25ad0980",
   "metadata": {},
   "outputs": [],
   "source": [
    "glass_data = pd.read_csv(\"./Data2/glass.csv\")\n",
    "glass_data.Type= glass_data.Type.str.replace('\\'','')\n",
    "\n",
    "glass_data.loc[glass_data.Type == 'build wind float','Type']=1\n",
    "glass_data.loc[glass_data.Type == 'build wind non-float','Type']=2\n",
    "glass_data.loc[glass_data.Type == 'vehic wind float','Type']=3\n",
    "glass_data.loc[glass_data.Type == 'containers','Type']=5\n",
    "glass_data.loc[glass_data.Type == 'tableware','Type']=6\n",
    "glass_data.loc[glass_data.Type == 'headlamps','Type']=7\n",
    "glass_data['Type'] = pd.to_numeric(glass_data['Type'])\n",
    "\n",
    "glass_data = glass_data.drop(glass_data[glass_data['K']>=2].index)\n",
    "\n",
    "new_df = glass_data.drop_duplicates()\n",
    "\n",
    "new_df = new_df.dropna()"
   ]
  },
  {
   "cell_type": "markdown",
   "id": "a710074f",
   "metadata": {},
   "source": [
    "### Entrenamiento"
   ]
  },
  {
   "cell_type": "code",
   "execution_count": 3,
   "id": "cc2b3793",
   "metadata": {},
   "outputs": [],
   "source": [
    "y_data = glass_data['Type']\n",
    "x_data = glass_data.drop('Type', axis = 1)\n",
    "x_training_data, x_test_data, y_training_data, y_test_data = train_test_split(x_data, y_data, test_size = 0.3)"
   ]
  },
  {
   "cell_type": "code",
   "execution_count": 4,
   "id": "2d4b14e1",
   "metadata": {},
   "outputs": [
    {
     "name": "stdout",
     "output_type": "stream",
     "text": [
      "              precision    recall  f1-score   support\n",
      "\n",
      "           1       0.00      0.00      0.00        22\n",
      "           2       0.36      1.00      0.53        23\n",
      "           3       0.00      0.00      0.00         3\n",
      "           5       0.00      0.00      0.00         4\n",
      "           6       0.00      0.00      0.00         4\n",
      "           7       0.00      0.00      0.00         8\n",
      "\n",
      "    accuracy                           0.36        64\n",
      "   macro avg       0.06      0.17      0.09        64\n",
      "weighted avg       0.13      0.36      0.19        64\n",
      "\n"
     ]
    },
    {
     "name": "stderr",
     "output_type": "stream",
     "text": [
      "C:\\ProgramData\\Anaconda3\\lib\\site-packages\\sklearn\\metrics\\_classification.py:1318: UndefinedMetricWarning: Precision and F-score are ill-defined and being set to 0.0 in labels with no predicted samples. Use `zero_division` parameter to control this behavior.\n",
      "  _warn_prf(average, modifier, msg_start, len(result))\n",
      "C:\\ProgramData\\Anaconda3\\lib\\site-packages\\sklearn\\metrics\\_classification.py:1318: UndefinedMetricWarning: Precision and F-score are ill-defined and being set to 0.0 in labels with no predicted samples. Use `zero_division` parameter to control this behavior.\n",
      "  _warn_prf(average, modifier, msg_start, len(result))\n",
      "C:\\ProgramData\\Anaconda3\\lib\\site-packages\\sklearn\\metrics\\_classification.py:1318: UndefinedMetricWarning: Precision and F-score are ill-defined and being set to 0.0 in labels with no predicted samples. Use `zero_division` parameter to control this behavior.\n",
      "  _warn_prf(average, modifier, msg_start, len(result))\n"
     ]
    }
   ],
   "source": [
    "model = svm.SVC()\n",
    "model.fit(x_training_data, y_training_data)\n",
    "\n",
    "predictions = model.predict(x_test_data)\n",
    "report = classification_report(y_test_data, predictions)\n",
    "\n",
    "sc1 = metrics.accuracy_score(predictions,y_test_data)\n",
    "\n",
    "print(report)"
   ]
  },
  {
   "cell_type": "markdown",
   "id": "193f4631",
   "metadata": {},
   "source": [
    "### Hiperparámetro"
   ]
  },
  {
   "cell_type": "code",
   "execution_count": 17,
   "id": "922db39f",
   "metadata": {
    "scrolled": true
   },
   "outputs": [
    {
     "name": "stdout",
     "output_type": "stream",
     "text": [
      "SVC(C=0.05, gamma=0.01, kernel='poly', probability=True)\n",
      "              precision    recall  f1-score   support\n",
      "\n",
      "           1       0.48      0.59      0.53        22\n",
      "           2       0.38      0.39      0.38        23\n",
      "           3       0.00      0.00      0.00         3\n",
      "           5       0.75      0.75      0.75         4\n",
      "           6       0.50      0.25      0.33         4\n",
      "           7       1.00      0.88      0.93         8\n",
      "\n",
      "    accuracy                           0.52        64\n",
      "   macro avg       0.52      0.48      0.49        64\n",
      "weighted avg       0.50      0.52      0.50        64\n",
      "\n"
     ]
    },
    {
     "name": "stderr",
     "output_type": "stream",
     "text": [
      "C:\\ProgramData\\Anaconda3\\lib\\site-packages\\sklearn\\metrics\\_classification.py:1318: UndefinedMetricWarning: Precision and F-score are ill-defined and being set to 0.0 in labels with no predicted samples. Use `zero_division` parameter to control this behavior.\n",
      "  _warn_prf(average, modifier, msg_start, len(result))\n",
      "C:\\ProgramData\\Anaconda3\\lib\\site-packages\\sklearn\\metrics\\_classification.py:1318: UndefinedMetricWarning: Precision and F-score are ill-defined and being set to 0.0 in labels with no predicted samples. Use `zero_division` parameter to control this behavior.\n",
      "  _warn_prf(average, modifier, msg_start, len(result))\n",
      "C:\\ProgramData\\Anaconda3\\lib\\site-packages\\sklearn\\metrics\\_classification.py:1318: UndefinedMetricWarning: Precision and F-score are ill-defined and being set to 0.0 in labels with no predicted samples. Use `zero_division` parameter to control this behavior.\n",
      "  _warn_prf(average, modifier, msg_start, len(result))\n"
     ]
    }
   ],
   "source": [
    "model1 = svm.SVC()\n",
    "param_grid = {'C': [0.001, 0.01, 0.05, 0.1],\n",
    "              'gamma': [0.001, 0.01, 0.05, 0.1],\n",
    "              'kernel': ['rbf','poly'],\n",
    "              'probability':[True] }\n",
    "\n",
    "gs = GridSearchCV(model1, param_grid=param_grid, scoring='accuracy', refit='accuracy', cv=3, return_train_score=True)\n",
    "gs.fit(x_training_data, y_training_data)\n",
    "modelo = gs.best_estimator_\n",
    "predictions1 = modelo.predict(x_test_data)\n",
    "report1 = classification_report(y_test_data, predictions1)\n",
    "\n",
    "sc2 = metrics.accuracy_score(predictions1,y_test_data)\n",
    "\n",
    "print(gs.best_estimator_)\n",
    "print(report1)"
   ]
  },
  {
   "cell_type": "code",
   "execution_count": 19,
   "id": "797c2f47",
   "metadata": {
    "scrolled": true
   },
   "outputs": [
    {
     "data": {
      "text/plain": [
       "Text(18.25, 0.5, 'Valores pronosticados por el modelo')"
      ]
     },
     "execution_count": 19,
     "metadata": {},
     "output_type": "execute_result"
    },
    {
     "data": {
      "image/png": "[encoded data removed]",
      "text/plain": [
       "<Figure size 400x400 with 1 Axes>"
      ]
     },
     "metadata": {},
     "output_type": "display_data"
    }
   ],
   "source": [
    "mat = confusion_matrix(y_test_data, predictions1)\n",
    "plt.subplots(figsize=(4,4))\n",
    "sns.heatmap(mat.T, square=True, annot=True, fmt='d', cbar=False, linewidth=.5)\n",
    "plt.xlabel('Valores reales')\n",
    "plt.ylabel('Valores pronosticados por el modelo')"
   ]
  },
  {
   "cell_type": "code",
   "execution_count": 7,
   "id": "26f43ad9",
   "metadata": {},
   "outputs": [
    {
     "name": "stdout",
     "output_type": "stream",
     "text": [
      "              precision    recall  f1-score   support\n",
      "\n",
      "           1       0.71      0.68      0.70        22\n",
      "           2       0.64      0.70      0.67        23\n",
      "           3       0.40      0.67      0.50         3\n",
      "           5       0.67      0.50      0.57         4\n",
      "           6       0.67      0.50      0.57         4\n",
      "           7       1.00      0.88      0.93         8\n",
      "\n",
      "    accuracy                           0.69        64\n",
      "   macro avg       0.68      0.65      0.66        64\n",
      "weighted avg       0.70      0.69      0.69        64\n",
      "\n"
     ]
    }
   ],
   "source": [
    "# Arbol de decisión\n",
    "modelo2 = tree.DecisionTreeClassifier()\n",
    "modelo2.fit(x_training_data, y_training_data)\n",
    "predictions2 = modelo2.predict(x_test_data)\n",
    "\n",
    "sc3 = metrics.accuracy_score(predictions2,y_test_data)\n",
    "\n",
    "report2 = classification_report(y_test_data, predictions2)\n",
    "print(report2)"
   ]
  },
  {
   "cell_type": "code",
   "execution_count": 8,
   "id": "739c1fab",
   "metadata": {},
   "outputs": [
    {
     "data": {
      "text/html": [
       "<div>\n",
       "<style scoped>\n",
       "    .dataframe tbody tr th:only-of-type {\n",
       "        vertical-align: middle;\n",
       "    }\n",
       "\n",
       "    .dataframe tbody tr th {\n",
       "        vertical-align: top;\n",
       "    }\n",
       "\n",
       "    .dataframe thead th {\n",
       "        text-align: right;\n",
       "    }\n",
       "</style>\n",
       "<table border=\"1\" class=\"dataframe\">\n",
       "  <thead>\n",
       "    <tr style=\"text-align: right;\">\n",
       "      <th></th>\n",
       "      <th>Modelo</th>\n",
       "      <th>Accuracy</th>\n",
       "    </tr>\n",
       "  </thead>\n",
       "  <tbody>\n",
       "    <tr>\n",
       "      <th>0</th>\n",
       "      <td>Support Vector Machine</td>\n",
       "      <td>0.359375</td>\n",
       "    </tr>\n",
       "    <tr>\n",
       "      <th>1</th>\n",
       "      <td>Support Vector Machine 1</td>\n",
       "      <td>0.515625</td>\n",
       "    </tr>\n",
       "    <tr>\n",
       "      <th>2</th>\n",
       "      <td>Decision Tree</td>\n",
       "      <td>0.687500</td>\n",
       "    </tr>\n",
       "  </tbody>\n",
       "</table>\n",
       "</div>"
      ],
      "text/plain": [
       "                     Modelo  Accuracy\n",
       "0    Support Vector Machine  0.359375\n",
       "1  Support Vector Machine 1  0.515625\n",
       "2             Decision Tree  0.687500"
      ]
     },
     "execution_count": 8,
     "metadata": {},
     "output_type": "execute_result"
    }
   ],
   "source": [
    "pd.DataFrame([['Support Vector Machine',sc1],\n",
    "              ['Support Vector Machine 1',sc2],\n",
    "              ['Decision Tree',sc3]],\n",
    "             columns=['Modelo','Accuracy'])"
   ]
  },
  {
   "cell_type": "markdown",
   "id": "8b776615",
   "metadata": {},
   "source": [
    "### Guardar Modelo y Despligue"
   ]
  },
  {
   "cell_type": "code",
   "execution_count": 9,
   "id": "1d678bd0",
   "metadata": {},
   "outputs": [],
   "source": [
    "from pickle import dump\n",
    "from pickle import load"
   ]
  },
  {
   "cell_type": "code",
   "execution_count": 10,
   "id": "9cbbf04e",
   "metadata": {},
   "outputs": [],
   "source": [
    "model_select = model1\n",
    "def guardar_modelo(model_select,nombre):\n",
    "    output = open(nombre,  'wb')\n",
    "    dump(model_select,  output, -1)\n",
    "    output.close()\n",
    "def cargar_modelo(nombre): \n",
    "    input = open(nombre,  'rb')\n",
    "    model_select = load(input)\n",
    "    input.close()   \n",
    "    return model_select"
   ]
  },
  {
   "cell_type": "code",
   "execution_count": 11,
   "id": "e88a4384",
   "metadata": {},
   "outputs": [],
   "source": [
    "nombre = 'model_name.pkl'\n",
    "guardar_modelo(model_select,nombre)"
   ]
  },
  {
   "cell_type": "code",
   "execution_count": 12,
   "id": "def99c6b",
   "metadata": {},
   "outputs": [
    {
     "data": {
      "text/plain": [
       "SVC()"
      ]
     },
     "execution_count": 12,
     "metadata": {},
     "output_type": "execute_result"
    }
   ],
   "source": [
    "cargar_modelo(nombre)"
   ]
  },
  {
   "cell_type": "markdown",
   "id": "e5c8e27f",
   "metadata": {},
   "source": [
    "**Despliegue**"
   ]
  },
  {
   "cell_type": "code",
   "execution_count": 13,
   "id": "1901da47",
   "metadata": {},
   "outputs": [
    {
     "data": {
      "text/plain": [
       "SVC(C=0.1, gamma=0.1, kernel='poly')"
      ]
     },
     "execution_count": 13,
     "metadata": {},
     "output_type": "execute_result"
    }
   ],
   "source": [
    "svm_mod = svm.SVC(C=0.1, gamma=0.1, kernel='poly')\n",
    "svm_mod.fit(x_data.iloc[:,0:5],y_data)"
   ]
  },
  {
   "cell_type": "code",
   "execution_count": 14,
   "id": "bde9f493",
   "metadata": {},
   "outputs": [],
   "source": [
    "from IPython.display import display\n",
    "def f(RI, Na, Mg, Al, Si):\n",
    "    y_val = svm_mod.predict([[RI,Na,Mg,Al,Si]])\n",
    "    print(\"The Glass Type is {}\".format(y_val))"
   ]
  },
  {
   "cell_type": "code",
   "execution_count": 16,
   "id": "f5ac2972",
   "metadata": {},
   "outputs": [
    {
     "data": {
      "application/vnd.jupyter.widget-view+json": {
       "model_id": "e854bcf2291045b8a333188a599758bb",
       "version_major": 2,
       "version_minor": 0
      },
      "text/plain": [
       "interactive(children=(FloatSlider(value=1.52, description='RI', max=1.54, min=1.5, step=0.0001), FloatSlider(v…"
      ]
     },
     "metadata": {},
     "output_type": "display_data"
    },
    {
     "data": {
      "text/plain": [
       "<function __main__.f(RI, Na, Mg, Al, Si)>"
      ]
     },
     "execution_count": 16,
     "metadata": {},
     "output_type": "execute_result"
    }
   ],
   "source": [
    "interact(f, RI=(1.50,1.54,0.0001),Na=(10.7,17.4),Mg=(0,4.5),Al=(0,3.5),Si=(69,76))"
   ]
  },
  {
   "cell_type": "code",
   "execution_count": null,
   "id": "dde397c9",
   "metadata": {},
   "outputs": [],
   "source": []
  }
 ],
 "metadata": {
  "kernelspec": {
   "display_name": "Python 3 (ipykernel)",
   "language": "python",
   "name": "python3"
  },
  "language_info": {
   "codemirror_mode": {
    "name": "ipython",
    "version": 3
   },
   "file_extension": ".py",
   "mimetype": "text/x-python",
   "name": "python",
   "nbconvert_exporter": "python",
   "pygments_lexer": "ipython3",
   "version": "3.9.13"
  }
 },
 "nbformat": 4,
 "nbformat_minor": 5
}
